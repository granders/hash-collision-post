{
 "cells": [
  {
   "cell_type": "code",
   "execution_count": 1,
   "metadata": {
    "collapsed": true,
    "deletable": true,
    "editable": true
   },
   "outputs": [],
   "source": [
    "%matplotlib inline\n",
    "import mpmath\n",
    "import matplotlib.pyplot as plt\n",
    "\n",
    "import numpy as np"
   ]
  },
  {
   "cell_type": "markdown",
   "metadata": {
    "deletable": true,
    "editable": true
   },
   "source": [
    "Let's use the alphanumeric characters a-z, A-Z, and 0-9. That means we're using a base 62 representation."
   ]
  },
  {
   "cell_type": "code",
   "execution_count": 2,
   "metadata": {
    "collapsed": true,
    "deletable": true,
    "editable": true
   },
   "outputs": [],
   "source": [
    "BASE = 62"
   ]
  },
  {
   "cell_type": "code",
   "execution_count": 3,
   "metadata": {
    "collapsed": false,
    "deletable": true,
    "editable": true
   },
   "outputs": [],
   "source": [
    "def get_num_digits(num, radix):\n",
    "    return mpmath.ceil(mpmath.log(num) / mpmath.log(radix))\n",
    "\n",
    "def compute_h_size_coarse(p, num_hashes, base=BASE):\n",
    "    \"\"\"\"\"\"\n",
    "    x = mpmath.power(num_hashes, 2) / (2 * p)\n",
    "    return get_num_digits(x, base)\n",
    "\n",
    "def compute_h_size_medium(p, num_hashes, base=BASE):\n",
    "    x = -mpmath.power(num_hashes, 2) / (2 * mpmath.log(1 - p))\n",
    "    return get_num_digits(x, base)\n"
   ]
  },
  {
   "cell_type": "code",
   "execution_count": 4,
   "metadata": {
    "collapsed": false,
    "deletable": true,
    "editable": true
   },
   "outputs": [],
   "source": [
    "# plot p = sharkattack, lightning_year, lightning_day, powerball\n",
    "p_powerball = 1 / 175e6\n",
    "\n",
    "# https://www.thewildlifemuseum.org/exhibits/sharks/odds-of-a-shark-attack/\n",
    "p_death_by_shark = 1 / 4e6\n",
    "\n",
    "# https://www.thewildlifemuseum.org/exhibits/sharks/odds-of-a-shark-attack/\n",
    "p_death_by_lightning = 1 / 8e4\n",
    "\n",
    "# https://www.thewildlifemuseum.org/exhibits/sharks/odds-of-a-shark-attack/\n",
    "p_death_by_car = 1 / 84.0\n",
    "\n",
    "num_hashes_powers = np.arange(6, 12, step=.05)\n",
    "num_hashes = [np.power(10, nhp) for nhp in num_hashes_powers]\n",
    "\n",
    "h_digits_powerball = [compute_h_size_medium(p_powerball, nh) for nh in num_hashes]\n",
    "h_digits_death_by_shark = [compute_h_size_medium(p_death_by_shark, nh) for nh in num_hashes]\n",
    "h_digits_death_by_lightning = [compute_h_size_medium(p_death_by_lightning, nh) for nh in num_hashes]\n",
    "h_digits_death_by_car = [compute_h_size_medium(p_death_by_car, nh) for nh in num_hashes]\n",
    "\n",
    "num_hashes = [mpmath.log10(nh) for nh in num_hashes]"
   ]
  },
  {
   "cell_type": "markdown",
   "metadata": {
    "deletable": true,
    "editable": true
   },
   "source": [
    "This is roughly how many base-62 \"digits\" you need to get a hash space big enough to guarantee the probability of a hash collision is less than the probability of one of a few different life-altering events."
   ]
  },
  {
   "cell_type": "code",
   "execution_count": 5,
   "metadata": {
    "collapsed": false,
    "deletable": true,
    "editable": true
   },
   "outputs": [
    {
     "data": {
      "text/plain": [
       "[<matplotlib.lines.Line2D at 0x101a178d0>]"
      ]
     },
     "execution_count": 5,
     "metadata": {},
     "output_type": "execute_result"
    },
    {
     "data": {
      "image/png": "[encoded data removed]",
      "text/plain": [
       "<matplotlib.figure.Figure at 0x104b92518>"
      ]
     },
     "metadata": {},
     "output_type": "display_data"
    }
   ],
   "source": [
    "plt.plot(num_hashes_powers, h_digits_powerball)\n",
    "plt.plot(num_hashes_powers, h_digits_death_by_lightning)\n",
    "plt.plot(num_hashes_powers, h_digits_death_by_car)"
   ]
  },
  {
   "cell_type": "code",
   "execution_count": 6,
   "metadata": {
    "collapsed": false,
    "deletable": true,
    "editable": true
   },
   "outputs": [],
   "source": [
    "def num_with_k_digits(base, k):\n",
    "    assert k >= 1\n",
    "    if k == 1:\n",
    "        # by convention, consider 0 to count as a single digit number\n",
    "        return base\n",
    "    else:\n",
    "        return mpmath.power(base, k) - mpmath.power(base, k - 1)\n",
    "\n",
    "def expected_num_digits(base, max_num_digits):\n",
    "    \"\"\"This should probably be close to max_num_digits\"\"\"\n",
    "    numbers = []\n",
    "    total = mpmath.power(base, max_num_digits)\n",
    "    for k in range(1, max_num_digits + 1):\n",
    "        numbers.append(k * num_with_k_digits(base, k) / total)\n",
    "    return sum(numbers)\n",
    "        "
   ]
  },
  {
   "cell_type": "code",
   "execution_count": 7,
   "metadata": {
    "collapsed": false,
    "deletable": true,
    "editable": true
   },
   "outputs": [
    {
     "data": {
      "text/plain": [
       "[<matplotlib.lines.Line2D at 0x104d7e358>]"
      ]
     },
     "execution_count": 7,
     "metadata": {},
     "output_type": "execute_result"
    },
    {
     "data": {
      "image/png": "[encoded data removed]",
      "text/plain": [
       "<matplotlib.figure.Figure at 0x104ca31d0>"
      ]
     },
     "metadata": {},
     "output_type": "display_data"
    }
   ],
   "source": [
    "# 100 - 999\n",
    "# 10^3 - 10^2 = 900 = (10-1)*10^2\n",
    "\n",
    "base = 62\n",
    "k_list = [k for k in range(1, 19)]\n",
    "numbers = [expected_num_digits(base, k) for k in k_list]\n",
    "plt.plot(k_list, numbers)"
   ]
  },
  {
   "cell_type": "code",
   "execution_count": 8,
   "metadata": {
    "collapsed": false,
    "deletable": true,
    "editable": true
   },
   "outputs": [
    {
     "data": {
      "text/plain": [
       "mpf('2.0')"
      ]
     },
     "execution_count": 8,
     "metadata": {},
     "output_type": "execute_result"
    }
   ],
   "source": [
    "mpmath.log(62**2) / mpmath.log(62)"
   ]
  },
  {
   "cell_type": "markdown",
   "metadata": {
    "deletable": true,
    "editable": true
   },
   "source": [
    "just wanted to know if “in the ballpark reasonable” approach, given that the birthday paradox suggests that collisions are more likely than we’d intuitively think\n",
    "\n",
    "conclusion: yes!"
   ]
  },
  {
   "cell_type": "markdown",
   "metadata": {
    "deletable": true,
    "editable": true
   },
   "source": [
    "Expected number of digits. Probably if we use average or median methods, we'll get the  same thing. With reasonably large number of possible digits, most numbers have the maximum possible number of digits.\n",
    "\n",
    "Example:\n",
    "let's say we're interested in all possible numbers that can be represented with 9 digits or less with base 10. This is the range [0, 10^9 - 1] inclusive, which has 1 billion numbers. How many of these have exactly 9 digits? 10^9 - 10^8 = 10^8 * (10 - 1), which is still \"pretty close\" to 1 billion. In general, there are 10 times as many numbers with exactly (k + 1) digits, as there are numbers with exactly k digits.\n",
    "\n",
    "(10^9 - 10^8)/10^9 = 1 - .1\n",
    "\n",
    "So 9/10 of numbers in the range [0, 10^9 - 1] have exactly 9 digits, and the remaining 1/10 have 8 or fewer digits.\n"
   ]
  },
  {
   "cell_type": "code",
   "execution_count": null,
   "metadata": {
    "collapsed": true,
    "deletable": true,
    "editable": true
   },
   "outputs": [],
   "source": []
  },
  {
   "cell_type": "markdown",
   "metadata": {
    "deletable": true,
    "editable": true
   },
   "source": [
    "So why is this a good approximation?"
   ]
  },
  {
   "cell_type": "markdown",
   "metadata": {
    "deletable": true,
    "editable": true
   },
   "source": [
    "The dot-product is defined by equation (\\ref{eq:dotp}) in theorem \\ref{theo:dotp} just below:\n",
    "\\begin{theorem}[Dot Product] \\label{theo:dotp}\n",
    "Let $u$ and $v$ be two vectors of $\\mathbb{R}^n$. The dot product can be expressed as\n",
    "\\begin{equation}\n",
    "\\label{eq:dotp}\n",
    "u^Tv = |u||v| \\cos \\theta,\n",
    "\\end{equation}\n",
    "where $\\theta$ is the angle between $u$ and $v$ ...\n",
    "\\end{theorem}"
   ]
  },
  {
   "cell_type": "markdown",
   "metadata": {
    "collapsed": true,
    "deletable": true,
    "editable": true
   },
   "source": [
    "$x + y^2$"
   ]
  },
  {
   "cell_type": "code",
   "execution_count": null,
   "metadata": {
    "collapsed": true
   },
   "outputs": [],
   "source": []
  }
 ],
 "metadata": {
  "kernelspec": {
   "display_name": "Python 3",
   "language": "python",
   "name": "python3"
  },
  "language_info": {
   "codemirror_mode": {
    "name": "ipython",
    "version": 3
   },
   "file_extension": ".py",
   "mimetype": "text/x-python",
   "name": "python",
   "nbconvert_exporter": "python",
   "pygments_lexer": "ipython3",
   "version": "3.6.0"
  },
  "latex_envs": {
   "LaTeX_envs_menu_present": true,
   "autocomplete": true,
   "bibliofile": "biblio.bib",
   "cite_by": "apalike",
   "current_citInitial": 1,
   "eqLabelWithNumbers": true,
   "eqNumInitial": 1,
   "hotkeys": {
    "equation": "Ctrl-E",
    "itemize": "Ctrl-I"
   },
   "labels_anchors": false,
   "latex_user_defs": false,
   "report_style_numbering": false,
   "user_envs_cfg": false
  }
 },
 "nbformat": 4,
 "nbformat_minor": 2
}
