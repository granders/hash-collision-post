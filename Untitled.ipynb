{
 "cells": [
  {
   "cell_type": "code",
   "execution_count": 25,
   "metadata": {
    "collapsed": true
   },
   "outputs": [],
   "source": [
    "%matplotlib inline\n",
    "import mpmath\n",
    "import matplotlib.pyplot as plt\n",
    "\n",
    "import numpy as np"
   ]
  },
  {
   "cell_type": "markdown",
   "metadata": {},
   "source": [
    "Let's use the alphanumeric characters a-z, A-Z, and 0-9. That means we're using a base 62 representation."
   ]
  },
  {
   "cell_type": "code",
   "execution_count": 56,
   "metadata": {
    "collapsed": true
   },
   "outputs": [],
   "source": [
    "RADIX = 62"
   ]
  },
  {
   "cell_type": "code",
   "execution_count": 65,
   "metadata": {
    "collapsed": true
   },
   "outputs": [],
   "source": [
    "def get_num_digits(num, radix):\n",
    "    return mpmath.ceil(mpmath.log(num) / mpmath.log(radix))\n",
    "\n",
    "def compute_h_size_coarse(p, num_hashes, radix=RADIX):\n",
    "    \"\"\"\"\"\"\n",
    "    x = mpmath.power(num_hashes, 2) / (2 * p)\n",
    "    return get_num_digits(x, radix)\n",
    "\n",
    "def compute_h_size_medium(p, num_hashes, radix=RADIX):\n",
    "    x = -mpmath.power(num_hashes, 2) / (2 * mpmath.log(1 - p))\n",
    "    return get_num_digits(x, radix)\n"
   ]
  },
  {
   "cell_type": "code",
   "execution_count": 86,
   "metadata": {
    "collapsed": false
   },
   "outputs": [],
   "source": [
    "# plot p = sharkattack, lightning_year, lightning_day, powerball\n",
    "p_powerball = 1 / 175e6\n",
    "\n",
    "# https://www.thewildlifemuseum.org/exhibits/sharks/odds-of-a-shark-attack/\n",
    "p_death_by_shark = 1 / 4e6\n",
    "\n",
    "# https://www.thewildlifemuseum.org/exhibits/sharks/odds-of-a-shark-attack/\n",
    "p_death_by_lightning = 1 / 8e4\n",
    "\n",
    "# https://www.thewildlifemuseum.org/exhibits/sharks/odds-of-a-shark-attack/\n",
    "p_death_by_car = 1 / 84.0\n",
    "\n",
    "num_hashes_powers = np.arange(6, 12, step=.05)\n",
    "num_hashes = [np.power(10, nhp) for nhp in num_hashes_powers]\n",
    "\n",
    "h_digits_powerball = [compute_h_size_medium(p_powerball, nh) for nh in num_hashes]\n",
    "h_digits_death_by_shark = [compute_h_size_medium(p_death_by_shark, nh) for nh in num_hashes]\n",
    "h_digits_death_by_lightning = [compute_h_size_medium(p_death_by_lightning, nh) for nh in num_hashes]\n",
    "h_digits_death_by_car = [compute_h_size_medium(p_death_by_car, nh) for nh in num_hashes]\n",
    "\n",
    "num_hashes = [mpmath.log10(nh) for nh in num_hashes]"
   ]
  },
  {
   "cell_type": "markdown",
   "metadata": {},
   "source": [
    "This is roughly how many base-62 \"digits\" you need to get a hash space big enough to guarantee the probability of a hash collision is less than the probability of one of a few different life-altering events."
   ]
  },
  {
   "cell_type": "code",
   "execution_count": 87,
   "metadata": {
    "collapsed": false
   },
   "outputs": [
    {
     "data": {
      "text/plain": [
       "[<matplotlib.lines.Line2D at 0x11471b9e8>]"
      ]
     },
     "execution_count": 87,
     "metadata": {},
     "output_type": "execute_result"
    },
    {
     "data": {
      "image/png": "[encoded data removed]",
      "text/plain": [
       "<matplotlib.figure.Figure at 0x11457aa58>"
      ]
     },
     "metadata": {},
     "output_type": "display_data"
    }
   ],
   "source": [
    "plt.plot(num_hashes_powers, h_digits_powerball)\n",
    "plt.plot(num_hashes_powers, h_digits_death_by_lightning)\n",
    "plt.plot(num_hashes_powers, h_digits_death_by_car)"
   ]
  },
  {
   "cell_type": "code",
   "execution_count": null,
   "metadata": {
    "collapsed": false
   },
   "outputs": [],
   "source": []
  },
  {
   "cell_type": "code",
   "execution_count": null,
   "metadata": {
    "collapsed": false
   },
   "outputs": [],
   "source": []
  },
  {
   "cell_type": "code",
   "execution_count": null,
   "metadata": {
    "collapsed": true
   },
   "outputs": [],
   "source": []
  }
 ],
 "metadata": {
  "kernelspec": {
   "display_name": "Python 3",
   "language": "python",
   "name": "python3"
  },
  "language_info": {
   "codemirror_mode": {
    "name": "ipython",
    "version": 3
   },
   "file_extension": ".py",
   "mimetype": "text/x-python",
   "name": "python",
   "nbconvert_exporter": "python",
   "pygments_lexer": "ipython3",
   "version": "3.6.0"
  }
 },
 "nbformat": 4,
 "nbformat_minor": 2
}
